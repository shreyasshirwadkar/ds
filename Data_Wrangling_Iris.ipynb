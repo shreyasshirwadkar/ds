{
  "nbformat": 4,
  "nbformat_minor": 0,
  "metadata": {
    "colab": {
      "provenance": []
    },
    "kernelspec": {
      "name": "python3",
      "display_name": "Python 3"
    },
    "language_info": {
      "name": "python"
    }
  },
  "cells": [
    {
      "cell_type": "code",
      "execution_count": 1,
      "metadata": {
        "id": "7lQGKHFzwwC-"
      },
      "outputs": [],
      "source": [
        "import pandas as pd"
      ]
    },
    {
      "cell_type": "code",
      "source": [
        "df = pd.read_csv('iris.csv')\n",
        "print(df)"
      ],
      "metadata": {
        "colab": {
          "base_uri": "https://localhost:8080/"
        },
        "id": "TT9aXCNcyRh_",
        "outputId": "9b753aca-31db-4e29-ab5e-a0a4fa844325"
      },
      "execution_count": 4,
      "outputs": [
        {
          "output_type": "stream",
          "name": "stdout",
          "text": [
            "     sepal.length  sepal.width  petal.length  petal.width    variety\n",
            "0             5.1          3.5           1.4          0.2     Setosa\n",
            "1             4.9          3.0           1.4          0.2     Setosa\n",
            "2             4.7          3.2           1.3          0.2     Setosa\n",
            "3             4.6          3.1           1.5          0.2     Setosa\n",
            "4             5.0          3.6           1.4          0.2     Setosa\n",
            "..            ...          ...           ...          ...        ...\n",
            "145           6.7          3.0           5.2          2.3  Virginica\n",
            "146           6.3          2.5           5.0          1.9  Virginica\n",
            "147           6.5          3.0           5.2          2.0  Virginica\n",
            "148           6.2          3.4           5.4          2.3  Virginica\n",
            "149           5.9          3.0           5.1          1.8  Virginica\n",
            "\n",
            "[150 rows x 5 columns]\n"
          ]
        }
      ]
    },
    {
      "cell_type": "code",
      "source": [
        "# CLEANING\n",
        "\n",
        "# Display first few rows to understand the structure of the dataset\n",
        "print(\"Initial Dataset:\\n\", df.head())\n",
        "\n",
        "# 1. Check for Missing Values\n",
        "print(\"\\nMissing Values:\\n\", df.isnull().sum())\n",
        "\n",
        "# 2. Remove Rows with Missing Values (if any)\n",
        "df = df.dropna()\n",
        "\n",
        "# 3. Check for Negative Values (to remove erroneous data in length/width columns)\n",
        "negative_values = df[(df['sepal.length'] < 0) |\n",
        "                     (df['sepal.width'] < 0) |\n",
        "                     (df['petal.length'] < 0) |\n",
        "                     (df['petal.width'] < 0)]\n",
        "\n",
        "if not negative_values.empty:\n",
        "    print(\"\\nNegative values detected:\\n\", negative_values)\n",
        "    # Remove rows with negative values\n",
        "    df = df[~df.isin(negative_values)].dropna()\n",
        "\n",
        "# 4. Remove Duplicates\n",
        "df = df.drop_duplicates()\n",
        "\n",
        "# 5. Verify Data Types\n",
        "print(\"\\nData Types:\\n\", df.dtypes)\n",
        "\n",
        "# After cleaning, let's display the cleaned dataset\n",
        "print(\"\\nCleaned Dataset:\\n\", df.head())\n",
        "\n",
        "# Now you can continue with the operations as per the earlier instructions\n"
      ],
      "metadata": {
        "colab": {
          "base_uri": "https://localhost:8080/"
        },
        "id": "1MGWYVB920xj",
        "outputId": "c0016590-81d2-41cb-ae0b-b38dbc3c4559"
      },
      "execution_count": 30,
      "outputs": [
        {
          "output_type": "stream",
          "name": "stdout",
          "text": [
            "Initial Dataset:\n",
            "    sepal.length  sepal.width  petal.length  petal.width variety\n",
            "0           5.1          3.5           1.4          0.2  Setosa\n",
            "1           4.9          3.0           1.4          0.2  Setosa\n",
            "2           4.7          3.2           1.3          0.2  Setosa\n",
            "3           4.6          3.1           1.5          0.2  Setosa\n",
            "4           5.0          3.6           1.4          0.2  Setosa\n",
            "\n",
            "Missing Values:\n",
            " sepal.length    0\n",
            "sepal.width     0\n",
            "petal.length    0\n",
            "petal.width     0\n",
            "variety         0\n",
            "dtype: int64\n",
            "\n",
            "Data Types:\n",
            " sepal.length    float64\n",
            "sepal.width     float64\n",
            "petal.length    float64\n",
            "petal.width     float64\n",
            "variety          object\n",
            "dtype: object\n",
            "\n",
            "Cleaned Dataset:\n",
            "    sepal.length  sepal.width  petal.length  petal.width variety\n",
            "0           5.1          3.5           1.4          0.2  Setosa\n",
            "1           4.9          3.0           1.4          0.2  Setosa\n",
            "2           4.7          3.2           1.3          0.2  Setosa\n",
            "3           4.6          3.1           1.5          0.2  Setosa\n",
            "4           5.0          3.6           1.4          0.2  Setosa\n"
          ]
        }
      ]
    },
    {
      "cell_type": "code",
      "source": [
        "# SUBSET\n",
        "setosa_df = df[df['variety']=='Setosa']\n",
        "versicolor_df = df[df['variety']=='Versicolor']\n",
        "viriginica_df = df[df['variety']=='Virginica']\n",
        "print(setosa_df.head())\n",
        "print(versicolor_df.head())\n",
        "print(viriginica_df.head())"
      ],
      "metadata": {
        "colab": {
          "base_uri": "https://localhost:8080/"
        },
        "id": "vNZC766HyZuN",
        "outputId": "365a32bd-4adf-45b5-9934-3cd27539b19e"
      },
      "execution_count": 31,
      "outputs": [
        {
          "output_type": "stream",
          "name": "stdout",
          "text": [
            "   sepal.length  sepal.width  petal.length  petal.width variety\n",
            "0           5.1          3.5           1.4          0.2  Setosa\n",
            "1           4.9          3.0           1.4          0.2  Setosa\n",
            "2           4.7          3.2           1.3          0.2  Setosa\n",
            "3           4.6          3.1           1.5          0.2  Setosa\n",
            "4           5.0          3.6           1.4          0.2  Setosa\n",
            "    sepal.length  sepal.width  petal.length  petal.width     variety\n",
            "50           7.0          3.2           4.7          1.4  Versicolor\n",
            "51           6.4          3.2           4.5          1.5  Versicolor\n",
            "52           6.9          3.1           4.9          1.5  Versicolor\n",
            "53           5.5          2.3           4.0          1.3  Versicolor\n",
            "54           6.5          2.8           4.6          1.5  Versicolor\n",
            "     sepal.length  sepal.width  petal.length  petal.width    variety\n",
            "100           6.3          3.3           6.0          2.5  Virginica\n",
            "101           5.8          2.7           5.1          1.9  Virginica\n",
            "102           7.1          3.0           5.9          2.1  Virginica\n",
            "103           6.3          2.9           5.6          1.8  Virginica\n",
            "104           6.5          3.0           5.8          2.2  Virginica\n"
          ]
        }
      ]
    },
    {
      "cell_type": "code",
      "source": [
        "# MERGE\n",
        "setosa_df.loc[:,'id'] = range(len(setosa_df))\n",
        "versicolor_df.loc[:,'id'] = range(len(versicolor_df))\n",
        "merged_df = pd.merge(setosa_df,versicolor_df,on='id',suffixes=('_setosa','_versicolor'))\n",
        "print(merged_df.head())"
      ],
      "metadata": {
        "colab": {
          "base_uri": "https://localhost:8080/"
        },
        "id": "dZczzgqUzn0t",
        "outputId": "0a7407c5-beb1-4309-fe24-72a3bfa79e6c"
      },
      "execution_count": 32,
      "outputs": [
        {
          "output_type": "stream",
          "name": "stdout",
          "text": [
            "   sepal.length_setosa  sepal.width_setosa  petal.length_setosa  \\\n",
            "0                  5.1                 3.5                  1.4   \n",
            "1                  4.9                 3.0                  1.4   \n",
            "2                  4.7                 3.2                  1.3   \n",
            "3                  4.6                 3.1                  1.5   \n",
            "4                  5.0                 3.6                  1.4   \n",
            "\n",
            "   petal.width_setosa variety_setosa  id  sepal.length_versicolor  \\\n",
            "0                 0.2         Setosa   0                      7.0   \n",
            "1                 0.2         Setosa   1                      6.4   \n",
            "2                 0.2         Setosa   2                      6.9   \n",
            "3                 0.2         Setosa   3                      5.5   \n",
            "4                 0.2         Setosa   4                      6.5   \n",
            "\n",
            "   sepal.width_versicolor  petal.length_versicolor  petal.width_versicolor  \\\n",
            "0                     3.2                      4.7                     1.4   \n",
            "1                     3.2                      4.5                     1.5   \n",
            "2                     3.1                      4.9                     1.5   \n",
            "3                     2.3                      4.0                     1.3   \n",
            "4                     2.8                      4.6                     1.5   \n",
            "\n",
            "  variety_versicolor  \n",
            "0         Versicolor  \n",
            "1         Versicolor  \n",
            "2         Versicolor  \n",
            "3         Versicolor  \n",
            "4         Versicolor  \n"
          ]
        },
        {
          "output_type": "stream",
          "name": "stderr",
          "text": [
            "<ipython-input-32-a2bf5583a47b>:2: SettingWithCopyWarning: \n",
            "A value is trying to be set on a copy of a slice from a DataFrame.\n",
            "Try using .loc[row_indexer,col_indexer] = value instead\n",
            "\n",
            "See the caveats in the documentation: https://pandas.pydata.org/pandas-docs/stable/user_guide/indexing.html#returning-a-view-versus-a-copy\n",
            "  setosa_df.loc[:,'id'] = range(len(setosa_df))\n",
            "<ipython-input-32-a2bf5583a47b>:3: SettingWithCopyWarning: \n",
            "A value is trying to be set on a copy of a slice from a DataFrame.\n",
            "Try using .loc[row_indexer,col_indexer] = value instead\n",
            "\n",
            "See the caveats in the documentation: https://pandas.pydata.org/pandas-docs/stable/user_guide/indexing.html#returning-a-view-versus-a-copy\n",
            "  versicolor_df.loc[:,'id'] = range(len(versicolor_df))\n"
          ]
        }
      ]
    },
    {
      "cell_type": "code",
      "source": [
        "# SORT\n",
        "sorted_df = df.sort_values(by='petal.length',ascending=False)\n",
        "print(sorted_df)"
      ],
      "metadata": {
        "colab": {
          "base_uri": "https://localhost:8080/"
        },
        "id": "tmJCRxVe0eud",
        "outputId": "bcd428d1-d5ad-4682-8272-2479b843b8e7"
      },
      "execution_count": 33,
      "outputs": [
        {
          "output_type": "stream",
          "name": "stdout",
          "text": [
            "     sepal.length  sepal.width  petal.length  petal.width    variety\n",
            "118           7.7          2.6           6.9          2.3  Virginica\n",
            "117           7.7          3.8           6.7          2.2  Virginica\n",
            "122           7.7          2.8           6.7          2.0  Virginica\n",
            "105           7.6          3.0           6.6          2.1  Virginica\n",
            "131           7.9          3.8           6.4          2.0  Virginica\n",
            "..            ...          ...           ...          ...        ...\n",
            "40            5.0          3.5           1.3          0.3     Setosa\n",
            "35            5.0          3.2           1.2          0.2     Setosa\n",
            "14            5.8          4.0           1.2          0.2     Setosa\n",
            "13            4.3          3.0           1.1          0.1     Setosa\n",
            "22            4.6          3.6           1.0          0.2     Setosa\n",
            "\n",
            "[149 rows x 5 columns]\n"
          ]
        }
      ]
    },
    {
      "cell_type": "code",
      "source": [
        "# TRANSPOSE\n",
        "transposed_df = df.head(3).transpose()\n",
        "print(transposed_df)"
      ],
      "metadata": {
        "colab": {
          "base_uri": "https://localhost:8080/"
        },
        "id": "fkbudGga08YW",
        "outputId": "e5d19347-d90e-4277-900c-3cb5733bafc5"
      },
      "execution_count": 34,
      "outputs": [
        {
          "output_type": "stream",
          "name": "stdout",
          "text": [
            "                   0       1       2\n",
            "sepal.length     5.1     4.9     4.7\n",
            "sepal.width      3.5     3.0     3.2\n",
            "petal.length     1.4     1.4     1.3\n",
            "petal.width      0.2     0.2     0.2\n",
            "variety       Setosa  Setosa  Setosa\n"
          ]
        }
      ]
    },
    {
      "cell_type": "code",
      "source": [
        "# MELT (Wide -> Long)\n",
        "melted_df = pd.melt(df, id_vars=['variety'], value_vars=['sepal.length', 'sepal.width', 'petal.length', 'petal.width'])\n",
        "print(melted_df)\n"
      ],
      "metadata": {
        "colab": {
          "base_uri": "https://localhost:8080/"
        },
        "id": "XGyMIR5w1vzr",
        "outputId": "3307db0c-ec46-410a-d0d1-c1d4aea3fa4e"
      },
      "execution_count": 46,
      "outputs": [
        {
          "output_type": "stream",
          "name": "stdout",
          "text": [
            "       variety      variable  value\n",
            "0       Setosa  sepal.length    5.1\n",
            "1       Setosa  sepal.length    4.9\n",
            "2       Setosa  sepal.length    4.7\n",
            "3       Setosa  sepal.length    4.6\n",
            "4       Setosa  sepal.length    5.0\n",
            "..         ...           ...    ...\n",
            "591  Virginica   petal.width    2.3\n",
            "592  Virginica   petal.width    1.9\n",
            "593  Virginica   petal.width    2.0\n",
            "594  Virginica   petal.width    2.3\n",
            "595  Virginica   petal.width    1.8\n",
            "\n",
            "[596 rows x 3 columns]\n"
          ]
        }
      ]
    },
    {
      "cell_type": "code",
      "source": [
        "# PIVOT - CASTING back to wide\n",
        "\n",
        "# Using pivot_table\n",
        "pivot_df = melted_df.pivot_table(index='variety',columns='variable',values='value',aggfunc='mean')\n",
        "print(pivot_df)\n",
        "\n",
        "# Using pivot\n",
        "# Step 1: Add a unique row index\n",
        "# df = df.reset_index()  # 'index' will now be a column\n",
        "# melted_df = pd.melt(df, id_vars=['index','variety'], value_vars=['sepal.length', 'sepal.width', 'petal.length', 'petal.width'])\n",
        "# print(melted_df)\n",
        "# pivot_df = melted_df.pivot(index='index', columns='variable', values='value')\n",
        "# pivot_df['variety'] = df['variety']\n",
        "# print(pivot_df)"
      ],
      "metadata": {
        "colab": {
          "base_uri": "https://localhost:8080/"
        },
        "id": "JhjbgvnO2dek",
        "outputId": "b48b85a0-8d71-40d1-e244-5e5e95624c40"
      },
      "execution_count": 48,
      "outputs": [
        {
          "output_type": "stream",
          "name": "stdout",
          "text": [
            "variable    petal.length  petal.width  sepal.length  sepal.width\n",
            "variety                                                         \n",
            "Setosa          1.462000     0.246000      5.006000     3.428000\n",
            "Versicolor      4.260000     1.326000      5.936000     2.770000\n",
            "Virginica       5.561224     2.028571      6.604082     2.979592\n"
          ]
        }
      ]
    }
  ]
}