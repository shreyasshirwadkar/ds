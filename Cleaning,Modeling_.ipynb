{
  "nbformat": 4,
  "nbformat_minor": 0,
  "metadata": {
    "colab": {
      "provenance": []
    },
    "kernelspec": {
      "name": "python3",
      "display_name": "Python 3"
    },
    "language_info": {
      "name": "python"
    }
  },
  "cells": [
    {
      "cell_type": "code",
      "source": [
        "import pandas as pd\n",
        "import numpy as np\n",
        "\n",
        "# Load dataset\n",
        "df = pd.read_csv('heart.csv')\n",
        "\n",
        "# CLEANING\n",
        "df.replace('?', np.nan, inplace=True)\n",
        "df = df.apply(pd.to_numeric, errors='coerce')\n",
        "df.dropna(inplace=True)\n",
        "df = df[(df >= 0).all(axis=1)]\n",
        "\n",
        "# OUTLIER REMOVAL\n",
        "Q1 = df.quantile(0.25)\n",
        "Q3 = df.quantile(0.75)\n",
        "IQR = Q3 - Q1\n",
        "df = df[~((df < (Q1 - 1.5 * IQR)) | (df > (Q3 + 1.5 * IQR))).any(axis=1)]\n",
        "\n",
        "# DATA TRANSFORMATION\n",
        "from sklearn.preprocessing import LabelEncoder, StandardScaler\n",
        "\n",
        "le = LabelEncoder()\n",
        "for col in df.select_dtypes(include=['object']).columns:\n",
        "    df[col] = le.fit_transform(df[col])\n",
        "\n",
        "features = df.drop('target', axis=1)\n",
        "scaler = StandardScaler()\n",
        "df[features.columns] = scaler.fit_transform(features)\n",
        "\n",
        "\n",
        "# Split into X and y\n",
        "from sklearn.model_selection import train_test_split\n",
        "X = features\n",
        "y = df['target']\n",
        "X_train, X_test, y_train, y_test = train_test_split(X, y, test_size=0.2, random_state=42)\n",
        "\n",
        "# Sanity Check - ensure no NaNs remain\n",
        "print(\"NaNs in training set:\", X_train.isna().sum().sum())\n",
        "print(\"NaNs in test set:\", X_test.isna().sum().sum())\n",
        "\n",
        "# MODEL - Logistic Regression\n",
        "from sklearn.linear_model import LogisticRegression\n",
        "from sklearn.metrics import accuracy_score\n",
        "\n",
        "lr = LogisticRegression(max_iter = 1000)\n",
        "lr.fit(X_train, y_train)\n",
        "y_pred_lr = lr.predict(X_test)\n",
        "print(\"Logistic Regression Accuracy:\", accuracy_score(y_test, y_pred_lr))\n",
        "\n",
        "# MODEL - KNN\n",
        "from sklearn.neighbors import KNeighborsClassifier\n",
        "\n",
        "# Initialize and train the KNN model\n",
        "knn = KNeighborsClassifier(n_neighbors=5)  # You can tune this number\n",
        "knn.fit(X_train, y_train)\n",
        "\n",
        "# Predict and evaluate\n",
        "y_pred_knn = knn.predict(X_test)\n",
        "print(\"KNN Accuracy:\", accuracy_score(y_test, y_pred_knn))\n",
        "\n"
      ],
      "metadata": {
        "colab": {
          "base_uri": "https://localhost:8080/"
        },
        "id": "1FAwl8wKeilE",
        "outputId": "b7acd349-b859-4c05-e4c3-7eab5b69e576"
      },
      "execution_count": 59,
      "outputs": [
        {
          "output_type": "stream",
          "name": "stdout",
          "text": [
            "NaNs in training set: 0\n",
            "NaNs in test set: 0\n",
            "Logistic Regression Accuracy: 0.8571428571428571\n",
            "KNN Accuracy: 0.6363636363636364\n"
          ]
        }
      ]
    }
  ]
}